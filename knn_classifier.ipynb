{
 "cells": [
  {
   "cell_type": "markdown",
   "metadata": {},
   "source": [
    "https://www.kaggle.com/paultimothymooney/chest-xray-pneumonia"
   ]
  },
  {
   "cell_type": "code",
   "execution_count": 1,
   "metadata": {},
   "outputs": [],
   "source": [
    "import os\n",
    "import glob\n",
    "import cv2\n",
    "from sklearn.neighbors import KNeighborsClassifier\n",
    "from skimage.feature import greycomatrix, greycoprops\n",
    "import numpy as np\n",
    "from tqdm import tqdm"
   ]
  },
  {
   "cell_type": "code",
   "execution_count": 2,
   "metadata": {},
   "outputs": [],
   "source": [
    "PATH_TRAIN = 'D:\\\\BSU\\\\Datasets\\\\chest_xray\\\\train'\n",
    "PATH_TEST = 'D:\\\\BSU\\\\Datasets\\\\chest_xray\\\\test'\n",
    "CLASSES = ['NORMAL', 'PNEUMONIA']\n",
    "dx = [-1, 0, 1, 1]\n",
    "dy = [1, 1, 1, 0]"
   ]
  },
  {
   "cell_type": "code",
   "execution_count": 3,
   "metadata": {},
   "outputs": [],
   "source": [
    "def get_feature_vector(filepath):\n",
    "    img = cv2.imread(filepath, 0)\n",
    "    glsm = greycomatrix(img, [1], [0], 256, symmetric=True, normed=True)\n",
    "    vector = glsm.flatten()\n",
    "    return vector"
   ]
  },
  {
   "cell_type": "code",
   "execution_count": 4,
   "metadata": {},
   "outputs": [],
   "source": [
    "def get_set(path):\n",
    "    features = []\n",
    "    labels = []\n",
    "    count = 0\n",
    "    for img_class in CLASSES:\n",
    "        class_path = os.path.join(path, img_class)\n",
    "        print(img_class)\n",
    "        for filename in tqdm(os.listdir(class_path)):\n",
    "            if not '.jpeg' in filename:\n",
    "                continue\n",
    "            filepath = glob.glob(os.path.join(class_path, filename))[0]\n",
    "            feature_vector = get_feature_vector(filepath)\n",
    "            features.append(feature_vector)\n",
    "            labels.append(img_class)\n",
    "            count += 1\n",
    "    print('Set from ' + path + ' uploaded. \\nFiles ' + str(count))\n",
    "    return features, labels"
   ]
  },
  {
   "cell_type": "code",
   "execution_count": 5,
   "metadata": {},
   "outputs": [
    {
     "name": "stdout",
     "output_type": "stream",
     "text": [
      "NORMAL\n"
     ]
    },
    {
     "name": "stderr",
     "output_type": "stream",
     "text": [
      "100%|████████████████████████████████████████████████████████████████████████████████| 234/234 [00:07<00:00, 38.08it/s]\n"
     ]
    },
    {
     "name": "stdout",
     "output_type": "stream",
     "text": [
      "PNEUMONIA\n"
     ]
    },
    {
     "name": "stderr",
     "output_type": "stream",
     "text": [
      "100%|████████████████████████████████████████████████████████████████████████████████| 390/390 [00:05<00:00, 70.30it/s]\n"
     ]
    },
    {
     "name": "stdout",
     "output_type": "stream",
     "text": [
      "Set from D:\\BSU\\Datasets\\chest_xray\\test uploaded. \n",
      "Files 624\n"
     ]
    }
   ],
   "source": [
    "test_set, test_labels = get_set(PATH_TEST)"
   ]
  },
  {
   "cell_type": "code",
   "execution_count": 6,
   "metadata": {},
   "outputs": [
    {
     "name": "stdout",
     "output_type": "stream",
     "text": [
      "NORMAL\n"
     ]
    },
    {
     "name": "stderr",
     "output_type": "stream",
     "text": [
      "100%|██████████████████████████████████████████████████████████████████████████████| 1341/1341 [00:49<00:00, 27.36it/s]\n"
     ]
    },
    {
     "name": "stdout",
     "output_type": "stream",
     "text": [
      "PNEUMONIA\n"
     ]
    },
    {
     "name": "stderr",
     "output_type": "stream",
     "text": [
      "100%|██████████████████████████████████████████████████████████████████████████████| 3875/3875 [01:02<00:00, 62.05it/s]\n"
     ]
    },
    {
     "name": "stdout",
     "output_type": "stream",
     "text": [
      "Set from D:\\BSU\\Datasets\\chest_xray\\train uploaded. \n",
      "Files 5216\n"
     ]
    }
   ],
   "source": [
    "train_set, train_labels = get_set(PATH_TRAIN)"
   ]
  },
  {
   "cell_type": "code",
   "execution_count": 7,
   "metadata": {},
   "outputs": [
    {
     "name": "stdout",
     "output_type": "stream",
     "text": [
      "Accuracy: 71.96% k = 5\n"
     ]
    }
   ],
   "source": [
    "model = KNeighborsClassifier(n_neighbors=5, n_jobs=-1)\n",
    "model.fit(train_set, train_labels)\n",
    "acc = model.score(test_set, test_labels)\n",
    "print(\"Accuracy: {:.2f}% k = 5\".format(acc * 100))"
   ]
  },
  {
   "cell_type": "code",
   "execution_count": 8,
   "metadata": {},
   "outputs": [
    {
     "name": "stdout",
     "output_type": "stream",
     "text": [
      "Accuracy: 70.03% k = 1\n"
     ]
    }
   ],
   "source": [
    "model = KNeighborsClassifier(n_neighbors=1, n_jobs=-1)\n",
    "model.fit(train_set, train_labels)\n",
    "acc = model.score(test_set, test_labels)\n",
    "print(\"Accuracy: {:.2f}% k = 1\".format(acc * 100))"
   ]
  }
 ],
 "metadata": {
  "kernelspec": {
   "display_name": "Python 3",
   "language": "python",
   "name": "python3"
  },
  "language_info": {
   "codemirror_mode": {
    "name": "ipython",
    "version": 3
   },
   "file_extension": ".py",
   "mimetype": "text/x-python",
   "name": "python",
   "nbconvert_exporter": "python",
   "pygments_lexer": "ipython3",
   "version": "3.7.3"
  }
 },
 "nbformat": 4,
 "nbformat_minor": 2
}
