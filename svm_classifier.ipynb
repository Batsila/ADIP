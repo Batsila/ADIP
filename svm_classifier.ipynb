{
 "cells": [
  {
   "cell_type": "code",
   "execution_count": 1,
   "metadata": {},
   "outputs": [],
   "source": [
    "import os\n",
    "import glob\n",
    "import cv2\n",
    "from sklearn import svm\n",
    "import numpy as np\n",
    "from tqdm import tqdm"
   ]
  },
  {
   "cell_type": "code",
   "execution_count": 2,
   "metadata": {},
   "outputs": [],
   "source": [
    "PATH_TRAIN = 'D:\\\\BSU\\\\Datasets\\\\chest_xray\\\\train'\n",
    "PATH_TEST = 'D:\\\\BSU\\\\Datasets\\\\chest_xray\\\\test'\n",
    "CLASSES = ['NORMAL', 'PNEUMONIA']\n",
    "dx = [-1, 0, 1, 1]\n",
    "dy = [1, 1, 1, 0]"
   ]
  },
  {
   "cell_type": "code",
   "execution_count": 3,
   "metadata": {},
   "outputs": [],
   "source": [
    "def get_feature_vector(filepath):\n",
    "    img = cv2.imread(filepath, 0)\n",
    "    resized_image = cv2.resize(img, (400, 300))\n",
    "    vector = resized_image.flatten()\n",
    "    return vector"
   ]
  },
  {
   "cell_type": "code",
   "execution_count": 4,
   "metadata": {},
   "outputs": [],
   "source": [
    "def get_set(path):\n",
    "    features = []\n",
    "    labels = []\n",
    "    count = 0\n",
    "    for img_class in CLASSES:\n",
    "        class_path = os.path.join(path, img_class)\n",
    "        print(img_class)\n",
    "        for filename in tqdm(os.listdir(class_path)):\n",
    "            if not '.jpeg' in filename:\n",
    "                continue\n",
    "            filepath = glob.glob(os.path.join(class_path, filename))[0]\n",
    "            feature_vector = get_feature_vector(filepath)\n",
    "            features.append(feature_vector)\n",
    "            labels.append(img_class)\n",
    "            count += 1\n",
    "    print('Set from ' + path + ' uploaded. \\nFiles ' + str(count))\n",
    "    return features, labels"
   ]
  },
  {
   "cell_type": "code",
   "execution_count": 5,
   "metadata": {},
   "outputs": [
    {
     "name": "stdout",
     "output_type": "stream",
     "text": [
      "NORMAL\n"
     ]
    },
    {
     "name": "stderr",
     "output_type": "stream",
     "text": [
      "100%|████████████████████████████████████████████████████████████████████████████████| 234/234 [00:04<00:00, 54.07it/s]\n"
     ]
    },
    {
     "name": "stdout",
     "output_type": "stream",
     "text": [
      "PNEUMONIA\n"
     ]
    },
    {
     "name": "stderr",
     "output_type": "stream",
     "text": [
      "100%|███████████████████████████████████████████████████████████████████████████████| 390/390 [00:03<00:00, 106.45it/s]\n"
     ]
    },
    {
     "name": "stdout",
     "output_type": "stream",
     "text": [
      "Set from D:\\BSU\\Datasets\\chest_xray\\test uploaded. \n",
      "Files 624\n"
     ]
    }
   ],
   "source": [
    "test_set, test_labels = get_set(PATH_TEST)"
   ]
  },
  {
   "cell_type": "code",
   "execution_count": 6,
   "metadata": {},
   "outputs": [
    {
     "name": "stdout",
     "output_type": "stream",
     "text": [
      "NORMAL\n"
     ]
    },
    {
     "name": "stderr",
     "output_type": "stream",
     "text": [
      "100%|██████████████████████████████████████████████████████████████████████████████| 1341/1341 [00:32<00:00, 41.65it/s]\n"
     ]
    },
    {
     "name": "stdout",
     "output_type": "stream",
     "text": [
      "PNEUMONIA\n"
     ]
    },
    {
     "name": "stderr",
     "output_type": "stream",
     "text": [
      "100%|█████████████████████████████████████████████████████████████████████████████| 3875/3875 [00:33<00:00, 114.32it/s]\n"
     ]
    },
    {
     "name": "stdout",
     "output_type": "stream",
     "text": [
      "Set from D:\\BSU\\Datasets\\chest_xray\\train uploaded. \n",
      "Files 5216\n"
     ]
    }
   ],
   "source": [
    "train_set, train_labels = get_set(PATH_TRAIN)"
   ]
  },
  {
   "cell_type": "code",
   "execution_count": 7,
   "metadata": {},
   "outputs": [
    {
     "name": "stdout",
     "output_type": "stream",
     "text": [
      "[LibSVM]Accuracy: 75.16%\n"
     ]
    }
   ],
   "source": [
    "svc = svm.SVC(kernel='linear', verbose=True)\n",
    "svc.fit(train_set, train_labels)\n",
    "acc = svc.score(test_set, test_labels)\n",
    "print(\"Accuracy: {:.2f}%\".format(acc * 100))"
   ]
  }
 ],
 "metadata": {
  "kernelspec": {
   "display_name": "Python 3",
   "language": "python",
   "name": "python3"
  },
  "language_info": {
   "codemirror_mode": {
    "name": "ipython",
    "version": 3
   },
   "file_extension": ".py",
   "mimetype": "text/x-python",
   "name": "python",
   "nbconvert_exporter": "python",
   "pygments_lexer": "ipython3",
   "version": "3.7.3"
  }
 },
 "nbformat": 4,
 "nbformat_minor": 2
}
