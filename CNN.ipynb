{
 "cells": [
  {
   "cell_type": "code",
   "execution_count": 6,
   "metadata": {},
   "outputs": [
    {
     "name": "stdout",
     "output_type": "stream",
     "text": [
      "_________________________________________________________________\n",
      "Layer (type)                 Output Shape              Param #   \n",
      "=================================================================\n",
      "conv2d_7 (Conv2D)            (None, 398, 298, 32)      320       \n",
      "_________________________________________________________________\n",
      "conv2d_8 (Conv2D)            (None, 396, 296, 32)      9248      \n",
      "_________________________________________________________________\n",
      "max_pooling2d_6 (MaxPooling2 (None, 198, 148, 32)      0         \n",
      "_________________________________________________________________\n",
      "conv2d_9 (Conv2D)            (None, 196, 146, 64)      18496     \n",
      "_________________________________________________________________\n",
      "max_pooling2d_7 (MaxPooling2 (None, 98, 73, 64)        0         \n",
      "_________________________________________________________________\n",
      "conv2d_10 (Conv2D)           (None, 96, 71, 64)        36928     \n",
      "_________________________________________________________________\n",
      "max_pooling2d_8 (MaxPooling2 (None, 48, 35, 64)        0         \n",
      "_________________________________________________________________\n",
      "conv2d_11 (Conv2D)           (None, 46, 33, 128)       73856     \n",
      "_________________________________________________________________\n",
      "max_pooling2d_9 (MaxPooling2 (None, 23, 16, 128)       0         \n",
      "_________________________________________________________________\n",
      "conv2d_12 (Conv2D)           (None, 21, 14, 128)       147584    \n",
      "_________________________________________________________________\n",
      "max_pooling2d_10 (MaxPooling (None, 10, 7, 128)        0         \n",
      "_________________________________________________________________\n",
      "flatten_2 (Flatten)          (None, 8960)              0         \n",
      "_________________________________________________________________\n",
      "dense_3 (Dense)              (None, 512)               4588032   \n",
      "_________________________________________________________________\n",
      "dense_4 (Dense)              (None, 1)                 513       \n",
      "=================================================================\n",
      "Total params: 4,874,977\n",
      "Trainable params: 4,874,977\n",
      "Non-trainable params: 0\n",
      "_________________________________________________________________\n"
     ]
    }
   ],
   "source": [
    "from keras import layers\n",
    "from keras import models\n",
    "\n",
    "model = models.Sequential()\n",
    "\n",
    "model.add(layers.Conv2D(32, (3, 3), activation='relu', input_shape=(400, 300, 1)))\n",
    "model.add(layers.Conv2D(32, (3, 3), activation='relu'))\n",
    "model.add(layers.MaxPooling2D((2, 2)))\n",
    "\n",
    "model.add(layers.Conv2D(64, (3, 3), activation='relu'))\n",
    "model.add(layers.MaxPooling2D((2, 2)))\n",
    "\n",
    "model.add(layers.Conv2D(64, (3, 3), activation='relu'))\n",
    "model.add(layers.MaxPooling2D((2, 2)))\n",
    "\n",
    "model.add(layers.Conv2D(128, (3, 3), activation='relu'))\n",
    "model.add(layers.MaxPooling2D((2, 2)))\n",
    "\n",
    "model.add(layers.Conv2D(128, (3, 3), activation='relu'))\n",
    "model.add(layers.MaxPooling2D((2, 2)))\n",
    "\n",
    "model.add(layers.Flatten())\n",
    "model.add(layers.Dense(512, activation='relu'))\n",
    "model.add(layers.Dense(1, activation='sigmoid'))\n",
    "\n",
    "model.summary()\n",
    "          \n"
   ]
  },
  {
   "cell_type": "code",
   "execution_count": 15,
   "metadata": {},
   "outputs": [],
   "source": [
    "PATH_TRAIN = 'D:\\\\BSU\\\\Datasets\\\\chest_xray\\\\train'\n",
    "PATH_TEST = 'D:\\\\BSU\\\\Datasets\\\\chest_xray\\\\test'\n",
    "PATH_VAL = 'D:\\\\BSU\\\\Datasets\\\\chest_xray\\\\val'\n",
    "CLASSES = {'NORMAL' : 0, 'PNEUMONIA' : 1}"
   ]
  },
  {
   "cell_type": "code",
   "execution_count": 12,
   "metadata": {},
   "outputs": [],
   "source": [
    "import os\n",
    "import glob\n",
    "import cv2\n",
    "from tqdm import tqdm\n",
    "import numpy as np\n",
    "\n",
    "def get_set(path):\n",
    "    imgs = []\n",
    "    labels = []\n",
    "    count = 0\n",
    "    for img_class in CLASSES:\n",
    "        class_path = os.path.join(path, img_class)\n",
    "        print(img_class)\n",
    "        for filename in tqdm(os.listdir(class_path)):\n",
    "            if not '.jpeg' in filename:\n",
    "                continue\n",
    "            filepath = glob.glob(os.path.join(class_path, filename))[0]\n",
    "            img = get_img(filepath)\n",
    "            imgs.append(img)\n",
    "            labels.append(CLASSES[img_class])\n",
    "            count += 1\n",
    "    print('Set from ' + path + ' uploaded. \\nFiles ' + str(count))\n",
    "    return np.array(imgs), np.array(labels)\n",
    "\n",
    "\n",
    "\n",
    "def get_img(filepath):\n",
    "    img = cv2.imread(filepath, 0)\n",
    "    resized_image = cv2.resize(img, (400, 300)).reshape(400, 300, 1)\n",
    "    norm_img = resized_image / 255\n",
    "    return norm_img"
   ]
  },
  {
   "cell_type": "code",
   "execution_count": 20,
   "metadata": {},
   "outputs": [
    {
     "name": "stdout",
     "output_type": "stream",
     "text": [
      "NORMAL\n"
     ]
    },
    {
     "name": "stderr",
     "output_type": "stream",
     "text": [
      "100%|██████████| 9/9 [00:00<00:00, 70.87it/s]\n"
     ]
    },
    {
     "name": "stdout",
     "output_type": "stream",
     "text": [
      "PNEUMONIA\n"
     ]
    },
    {
     "name": "stderr",
     "output_type": "stream",
     "text": [
      "100%|██████████| 8/8 [00:00<00:00, 148.16it/s]\n"
     ]
    },
    {
     "name": "stdout",
     "output_type": "stream",
     "text": [
      "Set from D:\\BSU\\Datasets\\chest_xray\\val uploaded. \n",
      "Files 16\n"
     ]
    }
   ],
   "source": [
    "val_set, val_labels = get_set(PATH_VAL)"
   ]
  },
  {
   "cell_type": "code",
   "execution_count": 21,
   "metadata": {},
   "outputs": [
    {
     "name": "stdout",
     "output_type": "stream",
     "text": [
      "NORMAL\n"
     ]
    },
    {
     "name": "stderr",
     "output_type": "stream",
     "text": [
      "100%|██████████| 1341/1341 [00:36<00:00, 36.99it/s]\n"
     ]
    },
    {
     "name": "stdout",
     "output_type": "stream",
     "text": [
      "PNEUMONIA\n"
     ]
    },
    {
     "name": "stderr",
     "output_type": "stream",
     "text": [
      "100%|██████████| 3875/3875 [00:42<00:00, 91.28it/s] \n"
     ]
    },
    {
     "name": "stdout",
     "output_type": "stream",
     "text": [
      "Set from D:\\BSU\\Datasets\\chest_xray\\train uploaded. \n",
      "Files 5216\n"
     ]
    }
   ],
   "source": [
    "train_set, train_labels = get_set(PATH_TRAIN)"
   ]
  },
  {
   "cell_type": "code",
   "execution_count": 25,
   "metadata": {},
   "outputs": [],
   "source": [
    "from keras import optimizers\n",
    "\n",
    "model.compile(loss='binary_crossentropy', optimizer=optimizers.RMSprop(lr=1e-4), metrics=['acc'])"
   ]
  },
  {
   "cell_type": "code",
   "execution_count": 26,
   "metadata": {},
   "outputs": [
    {
     "name": "stdout",
     "output_type": "stream",
     "text": [
      "Train on 5216 samples, validate on 16 samples\n",
      "Epoch 1/40\n",
      " - 654s - loss: 0.2896 - acc: 0.8762 - val_loss: 0.2113 - val_acc: 1.0000\n",
      "Epoch 2/40\n",
      " - 677s - loss: 0.1791 - acc: 0.9296 - val_loss: 0.8408 - val_acc: 0.6875\n",
      "Epoch 3/40\n",
      " - 640s - loss: 0.1512 - acc: 0.9429 - val_loss: 1.0044 - val_acc: 0.6875\n",
      "Epoch 4/40\n",
      " - 626s - loss: 0.1293 - acc: 0.9496 - val_loss: 0.5623 - val_acc: 0.7500\n",
      "Epoch 5/40\n",
      " - 613s - loss: 0.1181 - acc: 0.9538 - val_loss: 1.0962 - val_acc: 0.6250\n",
      "Epoch 6/40\n",
      " - 615s - loss: 0.1083 - acc: 0.9603 - val_loss: 0.1667 - val_acc: 0.9375\n",
      "Epoch 7/40\n",
      " - 613s - loss: 0.0983 - acc: 0.9636 - val_loss: 0.6777 - val_acc: 0.6875\n",
      "Epoch 8/40\n",
      " - 613s - loss: 0.0888 - acc: 0.9678 - val_loss: 0.2882 - val_acc: 0.9375\n",
      "Epoch 9/40\n",
      " - 613s - loss: 0.0819 - acc: 0.9693 - val_loss: 0.6430 - val_acc: 0.8125\n",
      "Epoch 10/40\n",
      " - 608s - loss: 0.0768 - acc: 0.9732 - val_loss: 0.1912 - val_acc: 0.9375\n",
      "Epoch 11/40\n",
      " - 610s - loss: 0.0710 - acc: 0.9749 - val_loss: 0.8392 - val_acc: 0.6250\n",
      "Epoch 12/40\n",
      " - 612s - loss: 0.0681 - acc: 0.9716 - val_loss: 0.4748 - val_acc: 0.8125\n",
      "Epoch 13/40\n",
      " - 612s - loss: 0.0588 - acc: 0.9791 - val_loss: 0.1877 - val_acc: 0.8750\n",
      "Epoch 14/40\n",
      " - 612s - loss: 0.0568 - acc: 0.9789 - val_loss: 0.3321 - val_acc: 0.8750\n",
      "Epoch 15/40\n",
      " - 612s - loss: 0.0470 - acc: 0.9814 - val_loss: 0.2961 - val_acc: 0.8125\n",
      "Epoch 16/40\n",
      " - 612s - loss: 0.0414 - acc: 0.9850 - val_loss: 0.7764 - val_acc: 0.7500\n",
      "Epoch 17/40\n",
      " - 613s - loss: 0.0391 - acc: 0.9852 - val_loss: 0.5744 - val_acc: 0.8125\n",
      "Epoch 18/40\n",
      " - 611s - loss: 0.0405 - acc: 0.9849 - val_loss: 0.5675 - val_acc: 0.8125\n",
      "Epoch 19/40\n",
      " - 605s - loss: 0.0301 - acc: 0.9900 - val_loss: 0.2753 - val_acc: 0.8125\n",
      "Epoch 20/40\n",
      " - 608s - loss: 0.0293 - acc: 0.9885 - val_loss: 0.7385 - val_acc: 0.8125\n",
      "Epoch 21/40\n",
      " - 611s - loss: 0.0273 - acc: 0.9919 - val_loss: 1.0728 - val_acc: 0.8125\n",
      "Epoch 22/40\n",
      " - 612s - loss: 0.0223 - acc: 0.9918 - val_loss: 0.7886 - val_acc: 0.8125\n",
      "Epoch 23/40\n",
      " - 611s - loss: 0.0186 - acc: 0.9939 - val_loss: 0.2258 - val_acc: 0.8750\n",
      "Epoch 24/40\n",
      " - 611s - loss: 0.0133 - acc: 0.9942 - val_loss: 1.4652 - val_acc: 0.8125\n",
      "Epoch 25/40\n",
      " - 611s - loss: 0.0133 - acc: 0.9941 - val_loss: 1.8048 - val_acc: 0.7500\n",
      "Epoch 26/40\n",
      " - 608s - loss: 0.0156 - acc: 0.9954 - val_loss: 1.2983 - val_acc: 0.8125\n",
      "Epoch 27/40\n",
      " - 606s - loss: 0.0112 - acc: 0.9971 - val_loss: 1.0742 - val_acc: 0.8125\n",
      "Epoch 28/40\n",
      " - 610s - loss: 0.0120 - acc: 0.9958 - val_loss: 1.1094 - val_acc: 0.8125\n",
      "Epoch 29/40\n",
      " - 610s - loss: 0.0078 - acc: 0.9969 - val_loss: 1.8895 - val_acc: 0.8125\n",
      "Epoch 30/40\n",
      " - 610s - loss: 0.0087 - acc: 0.9962 - val_loss: 2.4186 - val_acc: 0.7500\n",
      "Epoch 31/40\n",
      " - 609s - loss: 0.0098 - acc: 0.9964 - val_loss: 0.5817 - val_acc: 0.9375\n",
      "Epoch 32/40\n",
      " - 610s - loss: 0.0052 - acc: 0.9987 - val_loss: 1.7406 - val_acc: 0.8125\n",
      "Epoch 33/40\n",
      " - 610s - loss: 0.0071 - acc: 0.9969 - val_loss: 1.4926 - val_acc: 0.8125\n",
      "Epoch 34/40\n",
      " - 608s - loss: 0.0077 - acc: 0.9969 - val_loss: 1.1889 - val_acc: 0.8125\n",
      "Epoch 35/40\n",
      " - 605s - loss: 0.0072 - acc: 0.9987 - val_loss: 1.3196 - val_acc: 0.8125\n",
      "Epoch 36/40\n",
      " - 610s - loss: 0.0044 - acc: 0.9983 - val_loss: 2.1834 - val_acc: 0.8125\n",
      "Epoch 37/40\n",
      " - 610s - loss: 0.0062 - acc: 0.9973 - val_loss: 1.7984 - val_acc: 0.8125\n",
      "Epoch 38/40\n",
      " - 610s - loss: 0.0070 - acc: 0.9981 - val_loss: 2.0991 - val_acc: 0.8125\n",
      "Epoch 39/40\n",
      " - 610s - loss: 0.0057 - acc: 0.9987 - val_loss: 2.2848 - val_acc: 0.8125\n",
      "Epoch 40/40\n",
      " - 609s - loss: 0.0034 - acc: 0.9988 - val_loss: 2.2430 - val_acc: 0.8125\n"
     ]
    }
   ],
   "source": [
    "history = model.fit(x=train_set, \n",
    "                    y=train_labels, \n",
    "                    batch_size=32, \n",
    "                    epochs=40, \n",
    "                    verbose=2, \n",
    "                    validation_data=(val_set, val_labels), \n",
    "                    shuffle=True)\n",
    "\n",
    "model.save('D:\\\\BSU\\\\Datasets\\\\chest_xray\\\\chest_xray.h5')"
   ]
  },
  {
   "cell_type": "code",
   "execution_count": 27,
   "metadata": {},
   "outputs": [
    {
     "data": {
      "image/png": "[encoded data removed]",
      "text/plain": [
       "<Figure size 432x288 with 1 Axes>"
      ]
     },
     "metadata": {
      "needs_background": "light"
     },
     "output_type": "display_data"
    },
    {
     "data": {
      "image/png": "[encoded data removed]",
      "text/plain": [
       "<Figure size 432x288 with 1 Axes>"
      ]
     },
     "metadata": {
      "needs_background": "light"
     },
     "output_type": "display_data"
    }
   ],
   "source": [
    "import matplotlib.pyplot as plt\n",
    "\n",
    "acc = history.history['acc']\n",
    "val_acc = history.history['val_acc']\n",
    "loss = history.history['loss']\n",
    "val_loss = history.history['val_loss']\n",
    "\n",
    "epochs = range(1, len(acc) + 1)\n",
    "\n",
    "plt.plot(epochs, acc, 'bo', label='Training acc')\n",
    "plt.plot(epochs, val_acc, 'b', label='Validation acc')\n",
    "plt.title('Training and validation accuracy')\n",
    "plt.legend()\n",
    "plt.show()\n",
    "\n",
    "plt.plot(epochs, loss, 'bo', label='Training loss')\n",
    "plt.plot(epochs, val_loss, 'b', label='Validation loss')\n",
    "plt.title('Training and validation loss')\n",
    "plt.legend()\n",
    "plt.show()"
   ]
  },
  {
   "cell_type": "code",
   "execution_count": 16,
   "metadata": {},
   "outputs": [
    {
     "name": "stdout",
     "output_type": "stream",
     "text": [
      "NORMAL\n"
     ]
    },
    {
     "name": "stderr",
     "output_type": "stream",
     "text": [
      "100%|██████████| 234/234 [00:04<00:00, 51.37it/s]\n"
     ]
    },
    {
     "name": "stdout",
     "output_type": "stream",
     "text": [
      "PNEUMONIA\n"
     ]
    },
    {
     "name": "stderr",
     "output_type": "stream",
     "text": [
      "100%|██████████| 390/390 [00:03<00:00, 99.26it/s] \n"
     ]
    },
    {
     "name": "stdout",
     "output_type": "stream",
     "text": [
      "Set from D:\\BSU\\Datasets\\chest_xray\\test uploaded. \n",
      "Files 624\n"
     ]
    }
   ],
   "source": [
    "test_set, test_labels = get_set(PATH_TEST)"
   ]
  },
  {
   "cell_type": "code",
   "execution_count": 9,
   "metadata": {},
   "outputs": [
    {
     "name": "stdout",
     "output_type": "stream",
     "text": [
      "WARNING:tensorflow:From C:\\Users\\User\\.conda\\envs\\ML\\lib\\site-packages\\tensorflow\\python\\ops\\math_ops.py:3066: to_int32 (from tensorflow.python.ops.math_ops) is deprecated and will be removed in a future version.\n",
      "Instructions for updating:\n",
      "Use tf.cast instead.\n"
     ]
    }
   ],
   "source": [
    "model = models.load_model('D:\\\\BSU\\\\Datasets\\\\chest_xray\\\\chest_xray.h5')"
   ]
  },
  {
   "cell_type": "code",
   "execution_count": 17,
   "metadata": {},
   "outputs": [
    {
     "name": "stdout",
     "output_type": "stream",
     "text": [
      "loss, accuracy\n",
      "[2.5503845, 0.775641]\n"
     ]
    }
   ],
   "source": [
    "res = model.test_on_batch(test_set, test_labels)\n",
    "print('loss, accuracy')\n",
    "print(res)"
   ]
  }
 ],
 "metadata": {
  "kernelspec": {
   "display_name": "Python 3",
   "language": "python",
   "name": "python3"
  },
  "language_info": {
   "codemirror_mode": {
    "name": "ipython",
    "version": 3
   },
   "file_extension": ".py",
   "mimetype": "text/x-python",
   "name": "python",
   "nbconvert_exporter": "python",
   "pygments_lexer": "ipython3",
   "version": "3.7.3"
  }
 },
 "nbformat": 4,
 "nbformat_minor": 2
}
